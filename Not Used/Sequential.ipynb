{
 "cells": [
  {
   "cell_type": "code",
   "execution_count": 5,
   "metadata": {
    "colab": {
     "base_uri": "https://localhost:8080/",
     "height": 119
    },
    "colab_type": "code",
    "id": "MqhH34gVXodM",
    "outputId": "2b58dc6f-2593-42b2-ae63-5cf1c0258320"
   },
   "outputs": [
    {
     "name": "stderr",
     "output_type": "stream",
     "text": [
      "[nltk_data] Downloading package stopwords to\n",
      "[nltk_data]     /Users/mohnishdevadiga/nltk_data...\n",
      "[nltk_data]   Package stopwords is already up-to-date!\n",
      "[nltk_data] Downloading package wordnet to\n",
      "[nltk_data]     /Users/mohnishdevadiga/nltk_data...\n",
      "[nltk_data]   Package wordnet is already up-to-date!\n",
      "[nltk_data] Downloading package punkt to\n",
      "[nltk_data]     /Users/mohnishdevadiga/nltk_data...\n",
      "[nltk_data]   Package punkt is already up-to-date!\n"
     ]
    }
   ],
   "source": [
    "import pandas as pd\n",
    "import numpy as np\n",
    "from sklearn.metrics import classification_report,confusion_matrix,accuracy_score\n",
    "from sklearn.model_selection import train_test_split\n",
    "from sklearn.feature_extraction.text import CountVectorizer, TfidfTransformer\n",
    "from sklearn import feature_extraction, model_selection, preprocessing\n",
    "from sklearn.pipeline import Pipeline\n",
    "from sklearn.svm import LinearSVC\n",
    "from sklearn.linear_model import LogisticRegression\n",
    "import glob \n",
    "import nltk\n",
    "from nltk.corpus import stopwords\n",
    "from nltk.stem import WordNetLemmatizer, PorterStemmer\n",
    "from nltk.tokenize import word_tokenize\n",
    "import spacy\n",
    "from collections import Counter\n",
    "import re\n",
    "import random\n",
    "from keras.preprocessing.text import Tokenizer\n",
    "from keras.preprocessing.sequence import pad_sequences\n",
    "from keras.models import Sequential\n",
    "from keras.layers import Dense, Embedding, LSTM, SpatialDropout1D\n",
    "from sklearn.model_selection import train_test_split\n",
    "from keras.utils.np_utils import to_categorical\n",
    "from keras.callbacks import EarlyStopping\n",
    "from keras.layers import Dropout\n",
    "from string import punctuation\n",
    "import h5py\n",
    "import pickle\n",
    "nltk.download('stopwords')\n",
    "nltk.download('wordnet')\n",
    "nltk.download('punkt')\n",
    "lemmatizer = WordNetLemmatizer()\n",
    "stop = set(stopwords.words('english'))\n",
    "stop.update(list(punctuation))"
   ]
  },
  {
   "cell_type": "code",
   "execution_count": 14,
   "metadata": {
    "colab": {},
    "colab_type": "code",
    "id": "CUFn_i0sXrud"
   },
   "outputs": [
    {
     "name": "stderr",
     "output_type": "stream",
     "text": [
      "/Users/mohnishdevadiga/anaconda3/lib/python3.7/site-packages/tqdm/std.py:668: FutureWarning: The Panel class is removed from pandas. Accessing it from the top-level namespace will also be removed in the next version\n",
      "  from pandas import Panel\n"
     ]
    }
   ],
   "source": [
    "from tqdm.auto import tqdm\n",
    "tqdm.pandas()"
   ]
  },
  {
   "cell_type": "code",
   "execution_count": 6,
   "metadata": {
    "colab": {},
    "colab_type": "code",
    "id": "HAmEtUNp76Gi"
   },
   "outputs": [],
   "source": [
    "MAX_NB_WORDS = 50000\n",
    "MAX_SEQUENCE_LENGTH = 250\n",
    "EMBEDDING_DIM = 100"
   ]
  },
  {
   "cell_type": "code",
   "execution_count": 7,
   "metadata": {
    "colab": {},
    "colab_type": "code",
    "id": "azhizMUhZTMf"
   },
   "outputs": [],
   "source": [
    "def get_datasets(shuffle=False,processed=False):\n",
    "    df = pd.DataFrame()\n",
    "    path = 'Datasets/*/*_*.csv'\n",
    "    if processed:\n",
    "        path = 'processed_dataset/*.csv'\n",
    "    for file in tqdm(glob.glob(path)):\n",
    "        df = df.append(pd.read_csv(file), ignore_index=True)\n",
    "    if shuffle:\n",
    "    \tdf = df.reindex(np.random.permutation(df.index)).reset_index(drop=True)\n",
    "    return df"
   ]
  },
  {
   "cell_type": "code",
   "execution_count": 9,
   "metadata": {
    "colab": {},
    "colab_type": "code",
    "id": "UPKTShP3YQ7c"
   },
   "outputs": [],
   "source": [
    "def normalize(df,difference=300):\n",
    "    df_list = [df[df['fake']==0],df[df['fake']==1]] # [fact,fake]\n",
    "    lst = [len(df_list[0]),len(df_list[1])]\n",
    "    if not bool(lst.index(min(lst))):\n",
    "        \"\"\" if fake is larger then swap \"\"\"\n",
    "        df_list[0], df_list[1] = df_list[1], df_list[0]\n",
    "    size = len(df_list[0]) - len(df_list[1]) + difference\n",
    "    to_delete = random.sample(range(0, len(df_list[0])), size)\n",
    "    df_list[0] = df_list[0].drop(df_list[0].index[to_delete])\n",
    "    return df_list[0].append(df_list[1], ignore_index=True).sample(frac=1)"
   ]
  },
  {
   "cell_type": "code",
   "execution_count": 10,
   "metadata": {
    "colab": {},
    "colab_type": "code",
    "id": "YgSlCCoDZUEF"
   },
   "outputs": [],
   "source": [
    "def text_clean(text):\n",
    "    text = re.sub(r'<.*?>', '', text)\n",
    "    text = re.sub(r'http\\S+', '', text)\n",
    "    text = \" \".join(x for x in word_tokenize(str(text)) if x.strip().lower() not in stop)\n",
    "    text = re.sub(r'\\d+', '', text)\n",
    "    text = \" \".join(lemmatizer.lemmatize(x.lower()) for x in text.split())\n",
    "    return(text)"
   ]
  },
  {
   "cell_type": "code",
   "execution_count": 11,
   "metadata": {
    "colab": {},
    "colab_type": "code",
    "id": "46en_JquZXW3"
   },
   "outputs": [],
   "source": [
    "def pre_process(norm=True):\n",
    "    if norm:\n",
    "        df = normalize(get_datasets())\n",
    "    else:\n",
    "        df = get_datasets(shuffle=True)\n",
    "    print(\"Normalized\")\n",
    "    df = df.replace(np.nan, '', regex=True)\n",
    "    df['news'] = df['title'].str.cat(df['text'],sep=\" \")\n",
    "    print(\"Cleaning\")\n",
    "    df['news'] = df['news'].progress_apply(text_clean)\n",
    "    df = df.drop(['title','text'], axis=1)\n",
    "    return df"
   ]
  },
  {
   "cell_type": "code",
   "execution_count": 12,
   "metadata": {
    "colab": {},
    "colab_type": "code",
    "id": "Mo1wj6H34VPQ"
   },
   "outputs": [],
   "source": [
    "def format_data(df, train=True, tokenizer=None):\n",
    "    x = df[\"news\"].values\n",
    "    if train:\n",
    "        y = df['fake'].values\n",
    "    if not tokenizer:\n",
    "        tokenizer = Tokenizer(num_words=MAX_NB_WORDS, filters='!\"#$%&()*+,-./:;<=>?@[\\]^_`{|}~', lower=True)\n",
    "        tokenizer.fit_on_texts(x)\n",
    "        print('Found %s unique tokens.' % len(tokenizer.word_index))\n",
    "    x = tokenizer.texts_to_sequences(x)\n",
    "    x = pad_sequences(x, maxlen=MAX_SEQUENCE_LENGTH)\n",
    "    if not train:\n",
    "        return x, tokenizer\n",
    "    return x, y, tokenizer"
   ]
  },
  {
   "cell_type": "markdown",
   "metadata": {},
   "source": [
    "As we had already cleaned data in XGBoost.ipynb"
   ]
  },
  {
   "cell_type": "code",
   "execution_count": 15,
   "metadata": {
    "colab": {
     "base_uri": "https://localhost:8080/",
     "height": 149,
     "referenced_widgets": [
      "2769b3c730934007bd80298b6634121e",
      "b146ab2d79ab406f8b7abfbcd89d207a",
      "5c487ca47ef4400bb2d0241816c8b41a",
      "df8f14f31af841c19fb283d91b5d4db0",
      "bbf1d19959554067a70c30ebb34cdfa1",
      "94bb4316a9b7402ca01c70d54cd17cd9",
      "608412de770a4ca296203c2da0dd236a",
      "2c752f862f0847a9b2c61232399fa075",
      "3530759fc9f04885a8ad488b6dd70793",
      "56519ca030a746fcad585730e64533bc",
      "740afdc4cf3c499ab5daa3811dbcb7ae",
      "06efe25a56df4d3e8ce82281aa9bcbb3",
      "b8d996d79ed340dbb918173457f08025",
      "21e7b6418f824068840ed7d7ab6115d9",
      "80761e188bdc401bad6e8edd485ec179",
      "33afd45242e4484d8e14134d183661ae"
     ]
    },
    "colab_type": "code",
    "id": "vRSNa1q9aTBk",
    "outputId": "f6f9858e-ed86-4b38-b96f-a1041f6c0d64"
   },
   "outputs": [
    {
     "data": {
      "application/vnd.jupyter.widget-view+json": {
       "model_id": "ec0c97bc04c241eca0170f72b70ac926",
       "version_major": 2,
       "version_minor": 0
      },
      "text/plain": [
       "HBox(children=(FloatProgress(value=0.0, max=30.0), HTML(value='')))"
      ]
     },
     "metadata": {},
     "output_type": "display_data"
    },
    {
     "name": "stdout",
     "output_type": "stream",
     "text": [
      "\n"
     ]
    },
    {
     "data": {
      "text/html": [
       "<div>\n",
       "<style scoped>\n",
       "    .dataframe tbody tr th:only-of-type {\n",
       "        vertical-align: middle;\n",
       "    }\n",
       "\n",
       "    .dataframe tbody tr th {\n",
       "        vertical-align: top;\n",
       "    }\n",
       "\n",
       "    .dataframe thead th {\n",
       "        text-align: right;\n",
       "    }\n",
       "</style>\n",
       "<table border=\"1\" class=\"dataframe\">\n",
       "  <thead>\n",
       "    <tr style=\"text-align: right;\">\n",
       "      <th></th>\n",
       "      <th>fake</th>\n",
       "      <th>news</th>\n",
       "    </tr>\n",
       "  </thead>\n",
       "  <tbody>\n",
       "    <tr>\n",
       "      <th>0</th>\n",
       "      <td>0</td>\n",
       "      <td>ok google burger king hijacked speaker ... fai...</td>\n",
       "    </tr>\n",
       "    <tr>\n",
       "      <th>1</th>\n",
       "      <td>0</td>\n",
       "      <td>box office ‘ doctor strange ’ lucky marvel hit...</td>\n",
       "    </tr>\n",
       "    <tr>\n",
       "      <th>2</th>\n",
       "      <td>0</td>\n",
       "      <td>supreme court issue stay transgender bathroom ...</td>\n",
       "    </tr>\n",
       "    <tr>\n",
       "      <th>3</th>\n",
       "      <td>1</td>\n",
       "      <td>man nostalgic simpler era hour ago onion ameri...</td>\n",
       "    </tr>\n",
       "    <tr>\n",
       "      <th>4</th>\n",
       "      <td>0</td>\n",
       "      <td>nobel peace prize recognize u continue writing...</td>\n",
       "    </tr>\n",
       "  </tbody>\n",
       "</table>\n",
       "</div>"
      ],
      "text/plain": [
       "   fake                                               news\n",
       "0     0  ok google burger king hijacked speaker ... fai...\n",
       "1     0  box office ‘ doctor strange ’ lucky marvel hit...\n",
       "2     0  supreme court issue stay transgender bathroom ...\n",
       "3     1  man nostalgic simpler era hour ago onion ameri...\n",
       "4     0  nobel peace prize recognize u continue writing..."
      ]
     },
     "execution_count": 15,
     "metadata": {},
     "output_type": "execute_result"
    }
   ],
   "source": [
    "#df = pre_process(norm=False)\n",
    "df = get_datasets(processed=True)\n",
    "df['news'] = df['news'].apply(str)\n",
    "df.head()"
   ]
  },
  {
   "cell_type": "code",
   "execution_count": 16,
   "metadata": {
    "colab": {
     "base_uri": "https://localhost:8080/",
     "height": 34
    },
    "colab_type": "code",
    "id": "cijN9m9M6w-8",
    "outputId": "97c2142a-78fc-4f0f-cdb7-43b39b4e9bcc"
   },
   "outputs": [
    {
     "name": "stdout",
     "output_type": "stream",
     "text": [
      "Found 410973 unique tokens.\n"
     ]
    }
   ],
   "source": [
    "X, y, tokenizer = format_data(df)\n",
    "x_train, x_test, y_train, y_test = train_test_split(X, y, test_size=0.2, random_state=2020)"
   ]
  },
  {
   "cell_type": "code",
   "execution_count": 17,
   "metadata": {
    "colab": {
     "base_uri": "https://localhost:8080/",
     "height": 34
    },
    "colab_type": "code",
    "id": "HVa9YUNjIHYV",
    "outputId": "76117793-2662-4bb8-8275-a5848e872449"
   },
   "outputs": [
    {
     "name": "stdout",
     "output_type": "stream",
     "text": [
      "train: 1:29120, 0:138373 | test: 1:7360, 0:34514\n"
     ]
    }
   ],
   "source": [
    "print(\"train: 1:{}, 0:{} | test: 1:{}, 0:{}\".format(y_train.tolist().count(1),y_train.tolist().count(0),y_test.tolist().count(1),y_test.tolist().count(0)))"
   ]
  },
  {
   "cell_type": "code",
   "execution_count": 18,
   "metadata": {
    "colab": {},
    "colab_type": "code",
    "id": "oLgPbhPKGDpW"
   },
   "outputs": [],
   "source": [
    "def sequential(inp):\n",
    "    model = Sequential()\n",
    "    model.add(Embedding(MAX_NB_WORDS, EMBEDDING_DIM, input_length=inp))\n",
    "    model.add(SpatialDropout1D(0.2))\n",
    "    model.add(LSTM(100, dropout=0.2, recurrent_dropout=0.2))\n",
    "    model.add(Dense(50, activation='relu'))\n",
    "    model.add(Dense(1, activation='sigmoid'))\n",
    "    model.compile(loss='binary_crossentropy', optimizer='adam', metrics=['accuracy'])\n",
    "    print(model.summary())\n",
    "    return model"
   ]
  },
  {
   "cell_type": "code",
   "execution_count": 14,
   "metadata": {
    "colab": {
     "base_uri": "https://localhost:8080/",
     "height": 496
    },
    "colab_type": "code",
    "id": "EynzQYsX3-Y7",
    "outputId": "70f735cf-d971-4237-dcfa-f974212c8ae2"
   },
   "outputs": [
    {
     "name": "stdout",
     "output_type": "stream",
     "text": [
      "WARNING:tensorflow:From /Users/mohnishdevadiga/anaconda3/lib/python3.7/site-packages/tensorflow/python/ops/nn_impl.py:180: add_dispatch_support.<locals>.wrapper (from tensorflow.python.ops.array_ops) is deprecated and will be removed in a future version.\n",
      "Instructions for updating:\n",
      "Use tf.where in 2.0, which has the same broadcast rule as np.where\n",
      "Model: \"sequential_1\"\n",
      "_________________________________________________________________\n",
      "Layer (type)                 Output Shape              Param #   \n",
      "=================================================================\n",
      "embedding_1 (Embedding)      (None, 250, 100)          5000000   \n",
      "_________________________________________________________________\n",
      "spatial_dropout1d_1 (Spatial (None, 250, 100)          0         \n",
      "_________________________________________________________________\n",
      "lstm_1 (LSTM)                (None, 100)               80400     \n",
      "_________________________________________________________________\n",
      "dense_1 (Dense)              (None, 50)                5050      \n",
      "_________________________________________________________________\n",
      "dense_2 (Dense)              (None, 1)                 51        \n",
      "=================================================================\n",
      "Total params: 5,085,501\n",
      "Trainable params: 5,085,501\n",
      "Non-trainable params: 0\n",
      "_________________________________________________________________\n",
      "None\n",
      "***** 0 *****\n",
      "WARNING:tensorflow:From /Users/mohnishdevadiga/anaconda3/lib/python3.7/site-packages/keras/backend/tensorflow_backend.py:422: The name tf.global_variables is deprecated. Please use tf.compat.v1.global_variables instead.\n",
      "\n",
      "Train on 16750 samples, validate on 41874 samples\n",
      "Epoch 1/10\n",
      "16750/16750 [==============================] - 176s 11ms/step - loss: 0.5102 - accuracy: 0.7998 - val_loss: 0.3684 - val_accuracy: 0.8253\n",
      "Epoch 2/10\n",
      "16750/16750 [==============================] - 178s 11ms/step - loss: 0.2402 - accuracy: 0.9026 - val_loss: 0.1872 - val_accuracy: 0.9328\n",
      "Epoch 3/10\n",
      "16750/16750 [==============================] - 181s 11ms/step - loss: 0.1068 - accuracy: 0.9640 - val_loss: 0.1725 - val_accuracy: 0.9393\n",
      "Epoch 4/10\n",
      "16750/16750 [==============================] - 183s 11ms/step - loss: 0.0614 - accuracy: 0.9816 - val_loss: 0.1843 - val_accuracy: 0.9416\n",
      "Epoch 5/10\n",
      "16750/16750 [==============================] - 189s 11ms/step - loss: 0.0357 - accuracy: 0.9896 - val_loss: 0.2157 - val_accuracy: 0.9408\n",
      "Epoch 6/10\n",
      "16750/16750 [==============================] - 186s 11ms/step - loss: 0.0179 - accuracy: 0.9949 - val_loss: 0.2487 - val_accuracy: 0.9372\n",
      "Epoch 7/10\n",
      "16750/16750 [==============================] - 203s 12ms/step - loss: 0.0085 - accuracy: 0.9977 - val_loss: 0.2793 - val_accuracy: 0.9348\n",
      "Epoch 8/10\n",
      "16750/16750 [==============================] - 203s 12ms/step - loss: 0.0063 - accuracy: 0.9985 - val_loss: 0.3213 - val_accuracy: 0.9360\n",
      "Epoch 9/10\n",
      "16750/16750 [==============================] - 192s 11ms/step - loss: 0.0044 - accuracy: 0.9987 - val_loss: 0.3637 - val_accuracy: 0.9367\n",
      "Epoch 10/10\n",
      "16750/16750 [==============================] - 187s 11ms/step - loss: 0.0053 - accuracy: 0.9982 - val_loss: 0.3248 - val_accuracy: 0.9314\n",
      "***** 1 *****\n",
      "Train on 16750 samples, validate on 41874 samples\n",
      "Epoch 1/10\n",
      "16750/16750 [==============================] - 187s 11ms/step - loss: 0.2020 - accuracy: 0.9387 - val_loss: 0.1615 - val_accuracy: 0.9452\n",
      "Epoch 2/10\n",
      "16750/16750 [==============================] - 193s 12ms/step - loss: 0.1062 - accuracy: 0.9658 - val_loss: 0.1629 - val_accuracy: 0.9466\n",
      "Epoch 3/10\n",
      "16750/16750 [==============================] - 187s 11ms/step - loss: 0.0568 - accuracy: 0.9833 - val_loss: 0.1600 - val_accuracy: 0.9486\n",
      "Epoch 4/10\n",
      "16750/16750 [==============================] - 186s 11ms/step - loss: 0.0334 - accuracy: 0.9913 - val_loss: 0.1863 - val_accuracy: 0.9436\n",
      "Epoch 5/10\n",
      "16750/16750 [==============================] - 186s 11ms/step - loss: 0.0217 - accuracy: 0.9943 - val_loss: 0.2071 - val_accuracy: 0.9447\n",
      "Epoch 6/10\n",
      "16750/16750 [==============================] - 184s 11ms/step - loss: 0.0147 - accuracy: 0.9960 - val_loss: 0.2214 - val_accuracy: 0.9477\n",
      "Epoch 7/10\n",
      "16750/16750 [==============================] - 184s 11ms/step - loss: 0.0108 - accuracy: 0.9973 - val_loss: 0.2717 - val_accuracy: 0.9468\n",
      "Epoch 8/10\n",
      "16750/16750 [==============================] - 185s 11ms/step - loss: 0.0102 - accuracy: 0.9968 - val_loss: 0.2543 - val_accuracy: 0.9430\n",
      "Epoch 9/10\n",
      "16750/16750 [==============================] - 184s 11ms/step - loss: 0.0054 - accuracy: 0.9987 - val_loss: 0.2779 - val_accuracy: 0.9450\n",
      "Epoch 10/10\n",
      "16750/16750 [==============================] - 199s 12ms/step - loss: 0.0031 - accuracy: 0.9995 - val_loss: 0.2912 - val_accuracy: 0.9462\n",
      "***** 2 *****\n",
      "Train on 16750 samples, validate on 41874 samples\n",
      "Epoch 1/10\n",
      "16750/16750 [==============================] - 184s 11ms/step - loss: 0.1849 - accuracy: 0.9482 - val_loss: 0.1318 - val_accuracy: 0.9575\n",
      "Epoch 2/10\n",
      "16750/16750 [==============================] - 184s 11ms/step - loss: 0.0933 - accuracy: 0.9713 - val_loss: 0.1360 - val_accuracy: 0.9574\n",
      "Epoch 3/10\n",
      "16750/16750 [==============================] - 186s 11ms/step - loss: 0.0552 - accuracy: 0.9841 - val_loss: 0.1516 - val_accuracy: 0.9540\n",
      "Epoch 4/10\n",
      "16750/16750 [==============================] - 186s 11ms/step - loss: 0.0497 - accuracy: 0.9843 - val_loss: 0.1658 - val_accuracy: 0.9522\n",
      "Epoch 5/10\n",
      "16750/16750 [==============================] - 186s 11ms/step - loss: 0.0275 - accuracy: 0.9924 - val_loss: 0.1796 - val_accuracy: 0.9544\n",
      "Epoch 6/10\n",
      "16750/16750 [==============================] - 182s 11ms/step - loss: 0.0153 - accuracy: 0.9966 - val_loss: 0.1934 - val_accuracy: 0.9524\n",
      "Epoch 7/10\n",
      "16750/16750 [==============================] - 206s 12ms/step - loss: 0.0116 - accuracy: 0.9966 - val_loss: 0.2030 - val_accuracy: 0.9519\n",
      "Epoch 8/10\n",
      "16750/16750 [==============================] - 198s 12ms/step - loss: 0.0086 - accuracy: 0.9982 - val_loss: 0.2233 - val_accuracy: 0.9526\n",
      "Epoch 9/10\n",
      "16750/16750 [==============================] - 189s 11ms/step - loss: 0.0056 - accuracy: 0.9990 - val_loss: 0.2346 - val_accuracy: 0.9526\n",
      "Epoch 10/10\n",
      "16750/16750 [==============================] - 189s 11ms/step - loss: 0.0045 - accuracy: 0.9993 - val_loss: 0.2469 - val_accuracy: 0.9506\n",
      "***** 3 *****\n",
      "Train on 16749 samples, validate on 41874 samples\n",
      "Epoch 1/10\n",
      "16749/16749 [==============================] - 185s 11ms/step - loss: 0.1558 - accuracy: 0.9550 - val_loss: 0.1211 - val_accuracy: 0.9610\n",
      "Epoch 2/10\n",
      "16749/16749 [==============================] - 200s 12ms/step - loss: 0.0850 - accuracy: 0.9744 - val_loss: 0.1245 - val_accuracy: 0.9608\n",
      "Epoch 3/10\n",
      "16749/16749 [==============================] - 196s 12ms/step - loss: 0.0541 - accuracy: 0.9853 - val_loss: 0.1340 - val_accuracy: 0.9602\n",
      "Epoch 4/10\n",
      "16749/16749 [==============================] - 185s 11ms/step - loss: 0.0352 - accuracy: 0.9904 - val_loss: 0.1458 - val_accuracy: 0.9592\n",
      "Epoch 5/10\n",
      "16749/16749 [==============================] - 192s 11ms/step - loss: 0.0255 - accuracy: 0.9936 - val_loss: 0.1513 - val_accuracy: 0.9595\n",
      "Epoch 6/10\n",
      "16749/16749 [==============================] - 196s 12ms/step - loss: 0.0162 - accuracy: 0.9967 - val_loss: 0.1666 - val_accuracy: 0.9588\n",
      "Epoch 7/10\n",
      "16749/16749 [==============================] - 189s 11ms/step - loss: 0.0118 - accuracy: 0.9979 - val_loss: 0.1774 - val_accuracy: 0.9564\n",
      "Epoch 8/10\n",
      "16749/16749 [==============================] - 191s 11ms/step - loss: 0.0091 - accuracy: 0.9981 - val_loss: 0.1849 - val_accuracy: 0.9562\n",
      "Epoch 9/10\n",
      "16749/16749 [==============================] - 185s 11ms/step - loss: 0.0061 - accuracy: 0.9988 - val_loss: 0.1966 - val_accuracy: 0.9559\n",
      "Epoch 10/10\n",
      "16749/16749 [==============================] - 193s 12ms/step - loss: 0.0061 - accuracy: 0.9983 - val_loss: 0.2155 - val_accuracy: 0.9573\n",
      "***** 4 *****\n",
      "Train on 16749 samples, validate on 41874 samples\n",
      "Epoch 1/10\n",
      "16749/16749 [==============================] - 193s 11ms/step - loss: 0.1531 - accuracy: 0.9559 - val_loss: 0.1245 - val_accuracy: 0.9589\n",
      "Epoch 2/10\n",
      "16749/16749 [==============================] - 180s 11ms/step - loss: 0.0832 - accuracy: 0.9743 - val_loss: 0.1246 - val_accuracy: 0.9606\n",
      "Epoch 3/10\n",
      "16749/16749 [==============================] - 185s 11ms/step - loss: 0.0531 - accuracy: 0.9842 - val_loss: 0.1222 - val_accuracy: 0.9625\n",
      "Epoch 4/10\n",
      "16749/16749 [==============================] - 196s 12ms/step - loss: 0.0343 - accuracy: 0.9899 - val_loss: 0.1322 - val_accuracy: 0.9641\n",
      "Epoch 5/10\n",
      "16749/16749 [==============================] - 192s 11ms/step - loss: 0.0209 - accuracy: 0.9944 - val_loss: 0.1449 - val_accuracy: 0.9633\n",
      "Epoch 6/10\n",
      "16749/16749 [==============================] - 185s 11ms/step - loss: 0.0135 - accuracy: 0.9964 - val_loss: 0.1687 - val_accuracy: 0.9522\n",
      "Epoch 7/10\n",
      "16749/16749 [==============================] - 183s 11ms/step - loss: 0.0117 - accuracy: 0.9971 - val_loss: 0.1733 - val_accuracy: 0.9551\n",
      "Epoch 8/10\n",
      "16749/16749 [==============================] - 189s 11ms/step - loss: 0.0093 - accuracy: 0.9974 - val_loss: 0.1850 - val_accuracy: 0.9606\n",
      "Epoch 9/10\n",
      "16749/16749 [==============================] - 182s 11ms/step - loss: 0.0065 - accuracy: 0.9981 - val_loss: 0.1949 - val_accuracy: 0.9612\n",
      "Epoch 10/10\n",
      "16749/16749 [==============================] - 205s 12ms/step - loss: 0.0037 - accuracy: 0.9992 - val_loss: 0.1929 - val_accuracy: 0.9601\n",
      "***** 5 *****\n",
      "Train on 16749 samples, validate on 41874 samples\n",
      "Epoch 1/10\n",
      "16749/16749 [==============================] - 209s 12ms/step - loss: 0.1548 - accuracy: 0.9530 - val_loss: 0.1231 - val_accuracy: 0.9582\n",
      "Epoch 2/10\n",
      "16749/16749 [==============================] - 203s 12ms/step - loss: 0.0879 - accuracy: 0.9719 - val_loss: 0.1138 - val_accuracy: 0.9643\n",
      "Epoch 3/10\n",
      "16749/16749 [==============================] - 201s 12ms/step - loss: 0.0539 - accuracy: 0.9838 - val_loss: 0.1136 - val_accuracy: 0.9658\n",
      "Epoch 4/10\n",
      "16749/16749 [==============================] - 196s 12ms/step - loss: 0.0376 - accuracy: 0.9892 - val_loss: 0.1254 - val_accuracy: 0.9599\n",
      "Epoch 5/10\n",
      "16749/16749 [==============================] - 194s 12ms/step - loss: 0.0235 - accuracy: 0.9939 - val_loss: 0.1317 - val_accuracy: 0.9635\n",
      "Epoch 6/10\n",
      "16749/16749 [==============================] - 199s 12ms/step - loss: 0.0152 - accuracy: 0.9964 - val_loss: 0.1459 - val_accuracy: 0.9635\n",
      "Epoch 7/10\n",
      "16749/16749 [==============================] - 180s 11ms/step - loss: 0.0114 - accuracy: 0.9974 - val_loss: 0.1484 - val_accuracy: 0.9645\n",
      "Epoch 8/10\n",
      "16749/16749 [==============================] - 180s 11ms/step - loss: 0.0097 - accuracy: 0.9980 - val_loss: 0.1608 - val_accuracy: 0.9634\n",
      "Epoch 9/10\n",
      "16749/16749 [==============================] - 185s 11ms/step - loss: 0.0075 - accuracy: 0.9979 - val_loss: 0.1660 - val_accuracy: 0.9620\n",
      "Epoch 10/10\n",
      "16749/16749 [==============================] - 187s 11ms/step - loss: 0.0078 - accuracy: 0.9978 - val_loss: 0.1782 - val_accuracy: 0.9604\n",
      "***** 6 *****\n",
      "Train on 16749 samples, validate on 41874 samples\n",
      "Epoch 1/10\n",
      "16749/16749 [==============================] - 196s 12ms/step - loss: 0.1217 - accuracy: 0.9639 - val_loss: 0.0977 - val_accuracy: 0.9666\n",
      "Epoch 2/10\n",
      "16749/16749 [==============================] - 178s 11ms/step - loss: 0.0639 - accuracy: 0.9807 - val_loss: 0.1036 - val_accuracy: 0.9643\n",
      "Epoch 3/10\n",
      "16500/16749 [============================>.] - ETA: 1s - loss: 0.0397 - accuracy: 0.9881"
     ]
    },
    {
     "ename": "KeyboardInterrupt",
     "evalue": "",
     "output_type": "error",
     "traceback": [
      "\u001b[0;31m---------------------------------------------------------------------------\u001b[0m",
      "\u001b[0;31mKeyboardInterrupt\u001b[0m                         Traceback (most recent call last)",
      "\u001b[0;32m<ipython-input-14-d544a86e239d>\u001b[0m in \u001b[0;36m<module>\u001b[0;34m\u001b[0m\n\u001b[1;32m      8\u001b[0m     \u001b[0;32mfor\u001b[0m \u001b[0mbatch_x\u001b[0m\u001b[0;34m,\u001b[0m \u001b[0mbatch_y\u001b[0m \u001b[0;32min\u001b[0m \u001b[0mzip\u001b[0m\u001b[0;34m(\u001b[0m\u001b[0mnp\u001b[0m\u001b[0;34m.\u001b[0m\u001b[0marray_split\u001b[0m\u001b[0;34m(\u001b[0m\u001b[0mx_train\u001b[0m\u001b[0;34m,\u001b[0m \u001b[0mbatches\u001b[0m\u001b[0;34m)\u001b[0m\u001b[0;34m,\u001b[0m\u001b[0mnp\u001b[0m\u001b[0;34m.\u001b[0m\u001b[0marray_split\u001b[0m\u001b[0;34m(\u001b[0m\u001b[0my_train\u001b[0m\u001b[0;34m,\u001b[0m \u001b[0mbatches\u001b[0m\u001b[0;34m)\u001b[0m\u001b[0;34m)\u001b[0m\u001b[0;34m:\u001b[0m\u001b[0;34m\u001b[0m\u001b[0;34m\u001b[0m\u001b[0m\n\u001b[1;32m      9\u001b[0m         \u001b[0mprint\u001b[0m\u001b[0;34m(\u001b[0m\u001b[0;34m'*'\u001b[0m\u001b[0;34m*\u001b[0m\u001b[0;36m5\u001b[0m\u001b[0;34m,\u001b[0m\u001b[0mi\u001b[0m\u001b[0;34m,\u001b[0m\u001b[0;34m'*'\u001b[0m\u001b[0;34m*\u001b[0m\u001b[0;36m5\u001b[0m\u001b[0;34m)\u001b[0m\u001b[0;34m\u001b[0m\u001b[0;34m\u001b[0m\u001b[0m\n\u001b[0;32m---> 10\u001b[0;31m         \u001b[0mh\u001b[0m \u001b[0;34m=\u001b[0m \u001b[0mmodel\u001b[0m\u001b[0;34m.\u001b[0m\u001b[0mfit\u001b[0m\u001b[0;34m(\u001b[0m\u001b[0mbatch_x\u001b[0m\u001b[0;34m,\u001b[0m \u001b[0mbatch_y\u001b[0m\u001b[0;34m,\u001b[0m \u001b[0mepochs\u001b[0m\u001b[0;34m=\u001b[0m\u001b[0mepochs\u001b[0m\u001b[0;34m,\u001b[0m \u001b[0mbatch_size\u001b[0m\u001b[0;34m=\u001b[0m\u001b[0mbatch_size\u001b[0m\u001b[0;34m,\u001b[0m\u001b[0mvalidation_data\u001b[0m\u001b[0;34m=\u001b[0m\u001b[0;34m(\u001b[0m\u001b[0mx_test\u001b[0m\u001b[0;34m,\u001b[0m \u001b[0my_test\u001b[0m\u001b[0;34m)\u001b[0m\u001b[0;34m)\u001b[0m\u001b[0;34m\u001b[0m\u001b[0;34m\u001b[0m\u001b[0m\n\u001b[0m\u001b[1;32m     11\u001b[0m         \u001b[0mhistory\u001b[0m\u001b[0;34m.\u001b[0m\u001b[0mappend\u001b[0m\u001b[0;34m(\u001b[0m\u001b[0mh\u001b[0m\u001b[0;34m)\u001b[0m\u001b[0;34m\u001b[0m\u001b[0;34m\u001b[0m\u001b[0m\n\u001b[1;32m     12\u001b[0m         \u001b[0mi\u001b[0m\u001b[0;34m+=\u001b[0m\u001b[0;36m1\u001b[0m\u001b[0;34m\u001b[0m\u001b[0;34m\u001b[0m\u001b[0m\n",
      "\u001b[0;32m~/anaconda3/lib/python3.7/site-packages/keras/engine/training.py\u001b[0m in \u001b[0;36mfit\u001b[0;34m(self, x, y, batch_size, epochs, verbose, callbacks, validation_split, validation_data, shuffle, class_weight, sample_weight, initial_epoch, steps_per_epoch, validation_steps, validation_freq, max_queue_size, workers, use_multiprocessing, **kwargs)\u001b[0m\n\u001b[1;32m   1237\u001b[0m                                         \u001b[0msteps_per_epoch\u001b[0m\u001b[0;34m=\u001b[0m\u001b[0msteps_per_epoch\u001b[0m\u001b[0;34m,\u001b[0m\u001b[0;34m\u001b[0m\u001b[0;34m\u001b[0m\u001b[0m\n\u001b[1;32m   1238\u001b[0m                                         \u001b[0mvalidation_steps\u001b[0m\u001b[0;34m=\u001b[0m\u001b[0mvalidation_steps\u001b[0m\u001b[0;34m,\u001b[0m\u001b[0;34m\u001b[0m\u001b[0;34m\u001b[0m\u001b[0m\n\u001b[0;32m-> 1239\u001b[0;31m                                         validation_freq=validation_freq)\n\u001b[0m\u001b[1;32m   1240\u001b[0m \u001b[0;34m\u001b[0m\u001b[0m\n\u001b[1;32m   1241\u001b[0m     def evaluate(self,\n",
      "\u001b[0;32m~/anaconda3/lib/python3.7/site-packages/keras/engine/training_arrays.py\u001b[0m in \u001b[0;36mfit_loop\u001b[0;34m(model, fit_function, fit_inputs, out_labels, batch_size, epochs, verbose, callbacks, val_function, val_inputs, shuffle, initial_epoch, steps_per_epoch, validation_steps, validation_freq)\u001b[0m\n\u001b[1;32m    208\u001b[0m                                          \u001b[0mbatch_size\u001b[0m\u001b[0;34m=\u001b[0m\u001b[0mbatch_size\u001b[0m\u001b[0;34m,\u001b[0m\u001b[0;34m\u001b[0m\u001b[0;34m\u001b[0m\u001b[0m\n\u001b[1;32m    209\u001b[0m                                          \u001b[0mcallbacks\u001b[0m\u001b[0;34m=\u001b[0m\u001b[0mcallbacks\u001b[0m\u001b[0;34m,\u001b[0m\u001b[0;34m\u001b[0m\u001b[0;34m\u001b[0m\u001b[0m\n\u001b[0;32m--> 210\u001b[0;31m                                          verbose=0)\n\u001b[0m\u001b[1;32m    211\u001b[0m                     \u001b[0mval_outs\u001b[0m \u001b[0;34m=\u001b[0m \u001b[0mto_list\u001b[0m\u001b[0;34m(\u001b[0m\u001b[0mval_outs\u001b[0m\u001b[0;34m)\u001b[0m\u001b[0;34m\u001b[0m\u001b[0;34m\u001b[0m\u001b[0m\n\u001b[1;32m    212\u001b[0m                     \u001b[0;31m# Same labels assumed.\u001b[0m\u001b[0;34m\u001b[0m\u001b[0;34m\u001b[0m\u001b[0;34m\u001b[0m\u001b[0m\n",
      "\u001b[0;32m~/anaconda3/lib/python3.7/site-packages/keras/engine/training_arrays.py\u001b[0m in \u001b[0;36mtest_loop\u001b[0;34m(model, f, ins, batch_size, verbose, steps, callbacks)\u001b[0m\n\u001b[1;32m    447\u001b[0m             \u001b[0mbatch_logs\u001b[0m \u001b[0;34m=\u001b[0m \u001b[0;34m{\u001b[0m\u001b[0;34m'batch'\u001b[0m\u001b[0;34m:\u001b[0m \u001b[0mbatch_index\u001b[0m\u001b[0;34m,\u001b[0m \u001b[0;34m'size'\u001b[0m\u001b[0;34m:\u001b[0m \u001b[0mlen\u001b[0m\u001b[0;34m(\u001b[0m\u001b[0mbatch_ids\u001b[0m\u001b[0;34m)\u001b[0m\u001b[0;34m}\u001b[0m\u001b[0;34m\u001b[0m\u001b[0;34m\u001b[0m\u001b[0m\n\u001b[1;32m    448\u001b[0m             \u001b[0mcallbacks\u001b[0m\u001b[0;34m.\u001b[0m\u001b[0m_call_batch_hook\u001b[0m\u001b[0;34m(\u001b[0m\u001b[0;34m'test'\u001b[0m\u001b[0;34m,\u001b[0m \u001b[0;34m'begin'\u001b[0m\u001b[0;34m,\u001b[0m \u001b[0mbatch_index\u001b[0m\u001b[0;34m,\u001b[0m \u001b[0mbatch_logs\u001b[0m\u001b[0;34m)\u001b[0m\u001b[0;34m\u001b[0m\u001b[0;34m\u001b[0m\u001b[0m\n\u001b[0;32m--> 449\u001b[0;31m             \u001b[0mbatch_outs\u001b[0m \u001b[0;34m=\u001b[0m \u001b[0mf\u001b[0m\u001b[0;34m(\u001b[0m\u001b[0mins_batch\u001b[0m\u001b[0;34m)\u001b[0m\u001b[0;34m\u001b[0m\u001b[0;34m\u001b[0m\u001b[0m\n\u001b[0m\u001b[1;32m    450\u001b[0m             \u001b[0;32mif\u001b[0m \u001b[0misinstance\u001b[0m\u001b[0;34m(\u001b[0m\u001b[0mbatch_outs\u001b[0m\u001b[0;34m,\u001b[0m \u001b[0mlist\u001b[0m\u001b[0;34m)\u001b[0m\u001b[0;34m:\u001b[0m\u001b[0;34m\u001b[0m\u001b[0;34m\u001b[0m\u001b[0m\n\u001b[1;32m    451\u001b[0m                 \u001b[0;32mif\u001b[0m \u001b[0mbatch_index\u001b[0m \u001b[0;34m==\u001b[0m \u001b[0;36m0\u001b[0m\u001b[0;34m:\u001b[0m\u001b[0;34m\u001b[0m\u001b[0;34m\u001b[0m\u001b[0m\n",
      "\u001b[0;32m~/anaconda3/lib/python3.7/site-packages/tensorflow/python/keras/backend.py\u001b[0m in \u001b[0;36m__call__\u001b[0;34m(self, inputs)\u001b[0m\n\u001b[1;32m   3290\u001b[0m \u001b[0;34m\u001b[0m\u001b[0m\n\u001b[1;32m   3291\u001b[0m     fetched = self._callable_fn(*array_vals,\n\u001b[0;32m-> 3292\u001b[0;31m                                 run_metadata=self.run_metadata)\n\u001b[0m\u001b[1;32m   3293\u001b[0m     \u001b[0mself\u001b[0m\u001b[0;34m.\u001b[0m\u001b[0m_call_fetch_callbacks\u001b[0m\u001b[0;34m(\u001b[0m\u001b[0mfetched\u001b[0m\u001b[0;34m[\u001b[0m\u001b[0;34m-\u001b[0m\u001b[0mlen\u001b[0m\u001b[0;34m(\u001b[0m\u001b[0mself\u001b[0m\u001b[0;34m.\u001b[0m\u001b[0m_fetches\u001b[0m\u001b[0;34m)\u001b[0m\u001b[0;34m:\u001b[0m\u001b[0;34m]\u001b[0m\u001b[0;34m)\u001b[0m\u001b[0;34m\u001b[0m\u001b[0;34m\u001b[0m\u001b[0m\n\u001b[1;32m   3294\u001b[0m     output_structure = nest.pack_sequence_as(\n",
      "\u001b[0;32m~/anaconda3/lib/python3.7/site-packages/tensorflow/python/client/session.py\u001b[0m in \u001b[0;36m__call__\u001b[0;34m(self, *args, **kwargs)\u001b[0m\n\u001b[1;32m   1456\u001b[0m         ret = tf_session.TF_SessionRunCallable(self._session._session,\n\u001b[1;32m   1457\u001b[0m                                                \u001b[0mself\u001b[0m\u001b[0;34m.\u001b[0m\u001b[0m_handle\u001b[0m\u001b[0;34m,\u001b[0m \u001b[0margs\u001b[0m\u001b[0;34m,\u001b[0m\u001b[0;34m\u001b[0m\u001b[0;34m\u001b[0m\u001b[0m\n\u001b[0;32m-> 1458\u001b[0;31m                                                run_metadata_ptr)\n\u001b[0m\u001b[1;32m   1459\u001b[0m         \u001b[0;32mif\u001b[0m \u001b[0mrun_metadata\u001b[0m\u001b[0;34m:\u001b[0m\u001b[0;34m\u001b[0m\u001b[0;34m\u001b[0m\u001b[0m\n\u001b[1;32m   1460\u001b[0m           \u001b[0mproto_data\u001b[0m \u001b[0;34m=\u001b[0m \u001b[0mtf_session\u001b[0m\u001b[0;34m.\u001b[0m\u001b[0mTF_GetBuffer\u001b[0m\u001b[0;34m(\u001b[0m\u001b[0mrun_metadata_ptr\u001b[0m\u001b[0;34m)\u001b[0m\u001b[0;34m\u001b[0m\u001b[0;34m\u001b[0m\u001b[0m\n",
      "\u001b[0;31mKeyboardInterrupt\u001b[0m: "
     ]
    }
   ],
   "source": [
    "epochs = 10\n",
    "batch_size = 500\n",
    "try:\n",
    "    model = sequential(x_train.shape[1])\n",
    "    history = []\n",
    "    batches = 10\n",
    "    i = 0\n",
    "    for batch_x, batch_y in zip(np.array_split(x_train, batches),np.array_split(y_train, batches)):\n",
    "        print('*'*5,i,'*'*5)\n",
    "        h = model.fit(batch_x, batch_y, epochs=epochs, batch_size=batch_size,validation_data=(x_test, y_test))\n",
    "        history.append(h)\n",
    "        i+=1\n",
    "except Exception as e:\n",
    "    print(e)"
   ]
  },
  {
   "cell_type": "code",
   "execution_count": null,
   "metadata": {
    "colab": {},
    "colab_type": "code",
    "id": "c1fra1Sb39Ks"
   },
   "outputs": [],
   "source": [
    "def save(vector_model, NN_model, NN_model_data, Version):\n",
    "    pickle.dump(vector_model,open(\"VEC_model_\"+str(Version)+\".sav\", 'wb'))\n",
    "    pickle.dump(NN_model_data,open(\"MODEL_data_\"+str(Version)+\".txt\", 'wb'))\n",
    "    NN_model.save(\"model\"+str(Version)+\".h5\")\n",
    "    print(\"Saved model and Data\")\n",
    "\n",
    "save(tokenizer, model, history, version)"
   ]
  },
  {
   "cell_type": "code",
   "execution_count": null,
   "metadata": {},
   "outputs": [
    {
     "name": "stdout",
     "output_type": "stream",
     "text": [
      "WARNING:tensorflow:From /Users/mohnishdevadiga/anaconda3/lib/python3.7/site-packages/tensorflow/python/ops/nn_impl.py:180: add_dispatch_support.<locals>.wrapper (from tensorflow.python.ops.array_ops) is deprecated and will be removed in a future version.\n",
      "Instructions for updating:\n",
      "Use tf.where in 2.0, which has the same broadcast rule as np.where\n",
      "Model: \"sequential_1\"\n",
      "_________________________________________________________________\n",
      "Layer (type)                 Output Shape              Param #   \n",
      "=================================================================\n",
      "embedding_1 (Embedding)      (None, 250, 100)          5000000   \n",
      "_________________________________________________________________\n",
      "spatial_dropout1d_1 (Spatial (None, 250, 100)          0         \n",
      "_________________________________________________________________\n",
      "lstm_1 (LSTM)                (None, 100)               80400     \n",
      "_________________________________________________________________\n",
      "dense_1 (Dense)              (None, 50)                5050      \n",
      "_________________________________________________________________\n",
      "dense_2 (Dense)              (None, 1)                 51        \n",
      "=================================================================\n",
      "Total params: 5,085,501\n",
      "Trainable params: 5,085,501\n",
      "Non-trainable params: 0\n",
      "_________________________________________________________________\n",
      "None\n"
     ]
    },
    {
     "data": {
      "application/vnd.jupyter.widget-view+json": {
       "model_id": "7c4707b851734a71af0c6f57e3d55cac",
       "version_major": 2,
       "version_minor": 0
      },
      "text/plain": [
       "HBox(children=(FloatProgress(value=1.0, bar_style='info', max=1.0), HTML(value='')))"
      ]
     },
     "metadata": {},
     "output_type": "display_data"
    },
    {
     "name": "stdout",
     "output_type": "stream",
     "text": [
      "***** 0 *****\n",
      "WARNING:tensorflow:From /Users/mohnishdevadiga/anaconda3/lib/python3.7/site-packages/keras/backend/tensorflow_backend.py:422: The name tf.global_variables is deprecated. Please use tf.compat.v1.global_variables instead.\n",
      "\n",
      "***** 1 *****\n",
      "***** 2 *****\n",
      "***** 3 *****\n",
      "***** 4 *****\n",
      "***** 5 *****\n",
      "***** 6 *****\n"
     ]
    }
   ],
   "source": [
    "from keras.callbacks import EarlyStopping\n",
    "\n",
    "callback = EarlyStopping(monitor='accuracy', mode='max', verbose=1)\n",
    "              \n",
    "epochs = 10\n",
    "batch_size = 500\n",
    "try:\n",
    "    model_1 = sequential(x_train.shape[1])\n",
    "    history_1 = []\n",
    "    batches = 10\n",
    "    i = 0\n",
    "    for batch_x, batch_y in tqdm(zip(np.array_split(x_train, batches),np.array_split(y_train, batches))):\n",
    "        print('*'*5,i,'*'*5)\n",
    "        h = model_1.train_on_batch(batch_x, batch_y)#, epochs=epochs, batch_size=batch_size,validation_data=(x_test, y_test), callbacks=[callback])\n",
    "        history_1.append(h)\n",
    "        i+=1\n",
    "except Exception as e:\n",
    "    print(e)"
   ]
  },
  {
   "cell_type": "code",
   "execution_count": null,
   "metadata": {},
   "outputs": [],
   "source": [
    "from keras.callbacks import EarlyStopping\n",
    "\n",
    "callback = EarlyStopping(monitor='accuracy', mode='max', verbose=1) \n",
    "\n",
    "epochs = 10\n",
    "batch_size = 1000\n",
    "try:\n",
    "    model_0 = sequential(x_train.shape[1])\n",
    "    history_0 = model_0.fit(batch_x, batch_y, epochs=epochs, batch_size=batch_size,validation_data=(x_test, y_test), callbacks=[callback])\n",
    "except Exception as e:\n",
    "    print(e)"
   ]
  }
 ],
 "metadata": {
  "colab": {
   "collapsed_sections": [],
   "name": "Sequential_1.ipynb",
   "provenance": []
  },
  "kernelspec": {
   "display_name": "Python 3",
   "language": "python",
   "name": "python3"
  },
  "language_info": {
   "codemirror_mode": {
    "name": "ipython",
    "version": 3
   },
   "file_extension": ".py",
   "mimetype": "text/x-python",
   "name": "python",
   "nbconvert_exporter": "python",
   "pygments_lexer": "ipython3",
   "version": "3.7.7"
  },
  "widgets": {
   "application/vnd.jupyter.widget-state+json": {
    "06efe25a56df4d3e8ce82281aa9bcbb3": {
     "model_module": "@jupyter-widgets/controls",
     "model_name": "HTMLModel",
     "state": {
      "_dom_classes": [],
      "_model_module": "@jupyter-widgets/controls",
      "_model_module_version": "1.5.0",
      "_model_name": "HTMLModel",
      "_view_count": null,
      "_view_module": "@jupyter-widgets/controls",
      "_view_module_version": "1.5.0",
      "_view_name": "HTMLView",
      "description": "",
      "description_tooltip": null,
      "layout": "IPY_MODEL_33afd45242e4484d8e14134d183661ae",
      "placeholder": "​",
      "style": "IPY_MODEL_80761e188bdc401bad6e8edd485ec179",
      "value": " 209367/209367 [27:19&lt;00:00, 127.71it/s]"
     }
    },
    "21e7b6418f824068840ed7d7ab6115d9": {
     "model_module": "@jupyter-widgets/base",
     "model_name": "LayoutModel",
     "state": {
      "_model_module": "@jupyter-widgets/base",
      "_model_module_version": "1.2.0",
      "_model_name": "LayoutModel",
      "_view_count": null,
      "_view_module": "@jupyter-widgets/base",
      "_view_module_version": "1.2.0",
      "_view_name": "LayoutView",
      "align_content": null,
      "align_items": null,
      "align_self": null,
      "border": null,
      "bottom": null,
      "display": null,
      "flex": null,
      "flex_flow": null,
      "grid_area": null,
      "grid_auto_columns": null,
      "grid_auto_flow": null,
      "grid_auto_rows": null,
      "grid_column": null,
      "grid_gap": null,
      "grid_row": null,
      "grid_template_areas": null,
      "grid_template_columns": null,
      "grid_template_rows": null,
      "height": null,
      "justify_content": null,
      "justify_items": null,
      "left": null,
      "margin": null,
      "max_height": null,
      "max_width": null,
      "min_height": null,
      "min_width": null,
      "object_fit": null,
      "object_position": null,
      "order": null,
      "overflow": null,
      "overflow_x": null,
      "overflow_y": null,
      "padding": null,
      "right": null,
      "top": null,
      "visibility": null,
      "width": null
     }
    },
    "2769b3c730934007bd80298b6634121e": {
     "model_module": "@jupyter-widgets/controls",
     "model_name": "HBoxModel",
     "state": {
      "_dom_classes": [],
      "_model_module": "@jupyter-widgets/controls",
      "_model_module_version": "1.5.0",
      "_model_name": "HBoxModel",
      "_view_count": null,
      "_view_module": "@jupyter-widgets/controls",
      "_view_module_version": "1.5.0",
      "_view_name": "HBoxView",
      "box_style": "",
      "children": [
       "IPY_MODEL_5c487ca47ef4400bb2d0241816c8b41a",
       "IPY_MODEL_df8f14f31af841c19fb283d91b5d4db0"
      ],
      "layout": "IPY_MODEL_b146ab2d79ab406f8b7abfbcd89d207a"
     }
    },
    "2c752f862f0847a9b2c61232399fa075": {
     "model_module": "@jupyter-widgets/base",
     "model_name": "LayoutModel",
     "state": {
      "_model_module": "@jupyter-widgets/base",
      "_model_module_version": "1.2.0",
      "_model_name": "LayoutModel",
      "_view_count": null,
      "_view_module": "@jupyter-widgets/base",
      "_view_module_version": "1.2.0",
      "_view_name": "LayoutView",
      "align_content": null,
      "align_items": null,
      "align_self": null,
      "border": null,
      "bottom": null,
      "display": null,
      "flex": null,
      "flex_flow": null,
      "grid_area": null,
      "grid_auto_columns": null,
      "grid_auto_flow": null,
      "grid_auto_rows": null,
      "grid_column": null,
      "grid_gap": null,
      "grid_row": null,
      "grid_template_areas": null,
      "grid_template_columns": null,
      "grid_template_rows": null,
      "height": null,
      "justify_content": null,
      "justify_items": null,
      "left": null,
      "margin": null,
      "max_height": null,
      "max_width": null,
      "min_height": null,
      "min_width": null,
      "object_fit": null,
      "object_position": null,
      "order": null,
      "overflow": null,
      "overflow_x": null,
      "overflow_y": null,
      "padding": null,
      "right": null,
      "top": null,
      "visibility": null,
      "width": null
     }
    },
    "33afd45242e4484d8e14134d183661ae": {
     "model_module": "@jupyter-widgets/base",
     "model_name": "LayoutModel",
     "state": {
      "_model_module": "@jupyter-widgets/base",
      "_model_module_version": "1.2.0",
      "_model_name": "LayoutModel",
      "_view_count": null,
      "_view_module": "@jupyter-widgets/base",
      "_view_module_version": "1.2.0",
      "_view_name": "LayoutView",
      "align_content": null,
      "align_items": null,
      "align_self": null,
      "border": null,
      "bottom": null,
      "display": null,
      "flex": null,
      "flex_flow": null,
      "grid_area": null,
      "grid_auto_columns": null,
      "grid_auto_flow": null,
      "grid_auto_rows": null,
      "grid_column": null,
      "grid_gap": null,
      "grid_row": null,
      "grid_template_areas": null,
      "grid_template_columns": null,
      "grid_template_rows": null,
      "height": null,
      "justify_content": null,
      "justify_items": null,
      "left": null,
      "margin": null,
      "max_height": null,
      "max_width": null,
      "min_height": null,
      "min_width": null,
      "object_fit": null,
      "object_position": null,
      "order": null,
      "overflow": null,
      "overflow_x": null,
      "overflow_y": null,
      "padding": null,
      "right": null,
      "top": null,
      "visibility": null,
      "width": null
     }
    },
    "3530759fc9f04885a8ad488b6dd70793": {
     "model_module": "@jupyter-widgets/controls",
     "model_name": "HBoxModel",
     "state": {
      "_dom_classes": [],
      "_model_module": "@jupyter-widgets/controls",
      "_model_module_version": "1.5.0",
      "_model_name": "HBoxModel",
      "_view_count": null,
      "_view_module": "@jupyter-widgets/controls",
      "_view_module_version": "1.5.0",
      "_view_name": "HBoxView",
      "box_style": "",
      "children": [
       "IPY_MODEL_740afdc4cf3c499ab5daa3811dbcb7ae",
       "IPY_MODEL_06efe25a56df4d3e8ce82281aa9bcbb3"
      ],
      "layout": "IPY_MODEL_56519ca030a746fcad585730e64533bc"
     }
    },
    "56519ca030a746fcad585730e64533bc": {
     "model_module": "@jupyter-widgets/base",
     "model_name": "LayoutModel",
     "state": {
      "_model_module": "@jupyter-widgets/base",
      "_model_module_version": "1.2.0",
      "_model_name": "LayoutModel",
      "_view_count": null,
      "_view_module": "@jupyter-widgets/base",
      "_view_module_version": "1.2.0",
      "_view_name": "LayoutView",
      "align_content": null,
      "align_items": null,
      "align_self": null,
      "border": null,
      "bottom": null,
      "display": null,
      "flex": null,
      "flex_flow": null,
      "grid_area": null,
      "grid_auto_columns": null,
      "grid_auto_flow": null,
      "grid_auto_rows": null,
      "grid_column": null,
      "grid_gap": null,
      "grid_row": null,
      "grid_template_areas": null,
      "grid_template_columns": null,
      "grid_template_rows": null,
      "height": null,
      "justify_content": null,
      "justify_items": null,
      "left": null,
      "margin": null,
      "max_height": null,
      "max_width": null,
      "min_height": null,
      "min_width": null,
      "object_fit": null,
      "object_position": null,
      "order": null,
      "overflow": null,
      "overflow_x": null,
      "overflow_y": null,
      "padding": null,
      "right": null,
      "top": null,
      "visibility": null,
      "width": null
     }
    },
    "5c487ca47ef4400bb2d0241816c8b41a": {
     "model_module": "@jupyter-widgets/controls",
     "model_name": "FloatProgressModel",
     "state": {
      "_dom_classes": [],
      "_model_module": "@jupyter-widgets/controls",
      "_model_module_version": "1.5.0",
      "_model_name": "FloatProgressModel",
      "_view_count": null,
      "_view_module": "@jupyter-widgets/controls",
      "_view_module_version": "1.5.0",
      "_view_name": "ProgressView",
      "bar_style": "success",
      "description": "100%",
      "description_tooltip": null,
      "layout": "IPY_MODEL_94bb4316a9b7402ca01c70d54cd17cd9",
      "max": 83,
      "min": 0,
      "orientation": "horizontal",
      "style": "IPY_MODEL_bbf1d19959554067a70c30ebb34cdfa1",
      "value": 83
     }
    },
    "608412de770a4ca296203c2da0dd236a": {
     "model_module": "@jupyter-widgets/controls",
     "model_name": "DescriptionStyleModel",
     "state": {
      "_model_module": "@jupyter-widgets/controls",
      "_model_module_version": "1.5.0",
      "_model_name": "DescriptionStyleModel",
      "_view_count": null,
      "_view_module": "@jupyter-widgets/base",
      "_view_module_version": "1.2.0",
      "_view_name": "StyleView",
      "description_width": ""
     }
    },
    "740afdc4cf3c499ab5daa3811dbcb7ae": {
     "model_module": "@jupyter-widgets/controls",
     "model_name": "FloatProgressModel",
     "state": {
      "_dom_classes": [],
      "_model_module": "@jupyter-widgets/controls",
      "_model_module_version": "1.5.0",
      "_model_name": "FloatProgressModel",
      "_view_count": null,
      "_view_module": "@jupyter-widgets/controls",
      "_view_module_version": "1.5.0",
      "_view_name": "ProgressView",
      "bar_style": "success",
      "description": "100%",
      "description_tooltip": null,
      "layout": "IPY_MODEL_21e7b6418f824068840ed7d7ab6115d9",
      "max": 209367,
      "min": 0,
      "orientation": "horizontal",
      "style": "IPY_MODEL_b8d996d79ed340dbb918173457f08025",
      "value": 209367
     }
    },
    "80761e188bdc401bad6e8edd485ec179": {
     "model_module": "@jupyter-widgets/controls",
     "model_name": "DescriptionStyleModel",
     "state": {
      "_model_module": "@jupyter-widgets/controls",
      "_model_module_version": "1.5.0",
      "_model_name": "DescriptionStyleModel",
      "_view_count": null,
      "_view_module": "@jupyter-widgets/base",
      "_view_module_version": "1.2.0",
      "_view_name": "StyleView",
      "description_width": ""
     }
    },
    "94bb4316a9b7402ca01c70d54cd17cd9": {
     "model_module": "@jupyter-widgets/base",
     "model_name": "LayoutModel",
     "state": {
      "_model_module": "@jupyter-widgets/base",
      "_model_module_version": "1.2.0",
      "_model_name": "LayoutModel",
      "_view_count": null,
      "_view_module": "@jupyter-widgets/base",
      "_view_module_version": "1.2.0",
      "_view_name": "LayoutView",
      "align_content": null,
      "align_items": null,
      "align_self": null,
      "border": null,
      "bottom": null,
      "display": null,
      "flex": null,
      "flex_flow": null,
      "grid_area": null,
      "grid_auto_columns": null,
      "grid_auto_flow": null,
      "grid_auto_rows": null,
      "grid_column": null,
      "grid_gap": null,
      "grid_row": null,
      "grid_template_areas": null,
      "grid_template_columns": null,
      "grid_template_rows": null,
      "height": null,
      "justify_content": null,
      "justify_items": null,
      "left": null,
      "margin": null,
      "max_height": null,
      "max_width": null,
      "min_height": null,
      "min_width": null,
      "object_fit": null,
      "object_position": null,
      "order": null,
      "overflow": null,
      "overflow_x": null,
      "overflow_y": null,
      "padding": null,
      "right": null,
      "top": null,
      "visibility": null,
      "width": null
     }
    },
    "b146ab2d79ab406f8b7abfbcd89d207a": {
     "model_module": "@jupyter-widgets/base",
     "model_name": "LayoutModel",
     "state": {
      "_model_module": "@jupyter-widgets/base",
      "_model_module_version": "1.2.0",
      "_model_name": "LayoutModel",
      "_view_count": null,
      "_view_module": "@jupyter-widgets/base",
      "_view_module_version": "1.2.0",
      "_view_name": "LayoutView",
      "align_content": null,
      "align_items": null,
      "align_self": null,
      "border": null,
      "bottom": null,
      "display": null,
      "flex": null,
      "flex_flow": null,
      "grid_area": null,
      "grid_auto_columns": null,
      "grid_auto_flow": null,
      "grid_auto_rows": null,
      "grid_column": null,
      "grid_gap": null,
      "grid_row": null,
      "grid_template_areas": null,
      "grid_template_columns": null,
      "grid_template_rows": null,
      "height": null,
      "justify_content": null,
      "justify_items": null,
      "left": null,
      "margin": null,
      "max_height": null,
      "max_width": null,
      "min_height": null,
      "min_width": null,
      "object_fit": null,
      "object_position": null,
      "order": null,
      "overflow": null,
      "overflow_x": null,
      "overflow_y": null,
      "padding": null,
      "right": null,
      "top": null,
      "visibility": null,
      "width": null
     }
    },
    "b8d996d79ed340dbb918173457f08025": {
     "model_module": "@jupyter-widgets/controls",
     "model_name": "ProgressStyleModel",
     "state": {
      "_model_module": "@jupyter-widgets/controls",
      "_model_module_version": "1.5.0",
      "_model_name": "ProgressStyleModel",
      "_view_count": null,
      "_view_module": "@jupyter-widgets/base",
      "_view_module_version": "1.2.0",
      "_view_name": "StyleView",
      "bar_color": null,
      "description_width": "initial"
     }
    },
    "bbf1d19959554067a70c30ebb34cdfa1": {
     "model_module": "@jupyter-widgets/controls",
     "model_name": "ProgressStyleModel",
     "state": {
      "_model_module": "@jupyter-widgets/controls",
      "_model_module_version": "1.5.0",
      "_model_name": "ProgressStyleModel",
      "_view_count": null,
      "_view_module": "@jupyter-widgets/base",
      "_view_module_version": "1.2.0",
      "_view_name": "StyleView",
      "bar_color": null,
      "description_width": "initial"
     }
    },
    "df8f14f31af841c19fb283d91b5d4db0": {
     "model_module": "@jupyter-widgets/controls",
     "model_name": "HTMLModel",
     "state": {
      "_dom_classes": [],
      "_model_module": "@jupyter-widgets/controls",
      "_model_module_version": "1.5.0",
      "_model_name": "HTMLModel",
      "_view_count": null,
      "_view_module": "@jupyter-widgets/controls",
      "_view_module_version": "1.5.0",
      "_view_name": "HTMLView",
      "description": "",
      "description_tooltip": null,
      "layout": "IPY_MODEL_2c752f862f0847a9b2c61232399fa075",
      "placeholder": "​",
      "style": "IPY_MODEL_608412de770a4ca296203c2da0dd236a",
      "value": " 83/83 [27:30&lt;00:00, 19.89s/it]"
     }
    }
   }
  }
 },
 "nbformat": 4,
 "nbformat_minor": 1
}
