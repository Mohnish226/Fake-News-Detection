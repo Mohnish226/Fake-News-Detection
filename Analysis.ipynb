{
 "cells": [
  {
   "cell_type": "code",
   "execution_count": 1,
   "metadata": {},
   "outputs": [],
   "source": [
    "import pandas as pd\n",
    "import numpy as np\n",
    "import random\n",
    "from dataset import get_datasets"
   ]
  },
  {
   "cell_type": "code",
   "execution_count": 2,
   "metadata": {},
   "outputs": [],
   "source": [
    "import matplotlib.pyplot as plt\n",
    "plt.style.use('classic')\n",
    "%matplotlib inline\n",
    "import seaborn as sns\n",
    "sns.set(style=\"darkgrid\")"
   ]
  },
  {
   "cell_type": "code",
   "execution_count": 3,
   "metadata": {},
   "outputs": [
    {
     "name": "stderr",
     "output_type": "stream",
     "text": [
      "/Users/mohnishdevadiga/anaconda3/lib/python3.7/site-packages/tqdm/std.py:668: FutureWarning: The Panel class is removed from pandas. Accessing it from the top-level namespace will also be removed in the next version\n",
      "  from pandas import Panel\n"
     ]
    }
   ],
   "source": [
    "from tqdm.auto import tqdm\n",
    "tqdm.pandas()"
   ]
  },
  {
   "cell_type": "code",
   "execution_count": 4,
   "metadata": {},
   "outputs": [
    {
     "name": "stderr",
     "output_type": "stream",
     "text": [
      "100%|██████████| 83/83 [00:07<00:00, 11.81it/s]\n"
     ]
    },
    {
     "data": {
      "text/html": [
       "<div>\n",
       "<style scoped>\n",
       "    .dataframe tbody tr th:only-of-type {\n",
       "        vertical-align: middle;\n",
       "    }\n",
       "\n",
       "    .dataframe tbody tr th {\n",
       "        vertical-align: top;\n",
       "    }\n",
       "\n",
       "    .dataframe thead th {\n",
       "        text-align: right;\n",
       "    }\n",
       "</style>\n",
       "<table border=\"1\" class=\"dataframe\">\n",
       "  <thead>\n",
       "    <tr style=\"text-align: right;\">\n",
       "      <th></th>\n",
       "      <th>title</th>\n",
       "      <th>text</th>\n",
       "      <th>fake</th>\n",
       "    </tr>\n",
       "  </thead>\n",
       "  <tbody>\n",
       "    <tr>\n",
       "      <th>0</th>\n",
       "      <td>It’s Not Over Yet: “They May Be Trying To Stea...</td>\n",
       "      <td>\\nYou didn’t think she’d go down without a fig...</td>\n",
       "      <td>1</td>\n",
       "    </tr>\n",
       "    <tr>\n",
       "      <th>1</th>\n",
       "      <td></td>\n",
       "      <td>Napster offers rented music to go\\n\\nMusic dow...</td>\n",
       "      <td>0</td>\n",
       "    </tr>\n",
       "    <tr>\n",
       "      <th>2</th>\n",
       "      <td>Forget the Trump-Clinton Charade: It’s Time to...</td>\n",
       "      <td>Email \\nWho will be the winners and the losers...</td>\n",
       "      <td>1</td>\n",
       "    </tr>\n",
       "    <tr>\n",
       "      <th>3</th>\n",
       "      <td>Contenders for senior jobs in Trump's administ...</td>\n",
       "      <td>(Reuters) - The following are people mentioned...</td>\n",
       "      <td>0</td>\n",
       "    </tr>\n",
       "    <tr>\n",
       "      <th>4</th>\n",
       "      <td>Brussels attack victim’s wife sues Twitter for...</td>\n",
       "      <td>The wife of a New York man who died   is suing...</td>\n",
       "      <td>0</td>\n",
       "    </tr>\n",
       "    <tr>\n",
       "      <th>...</th>\n",
       "      <td>...</td>\n",
       "      <td>...</td>\n",
       "      <td>...</td>\n",
       "    </tr>\n",
       "    <tr>\n",
       "      <th>209362</th>\n",
       "      <td>Eleanor Roosevelt’s ‘mistress’ died heartbroke...</td>\n",
       "      <td>They called each other “darling,” “dear one” a...</td>\n",
       "      <td>0</td>\n",
       "    </tr>\n",
       "    <tr>\n",
       "      <th>209363</th>\n",
       "      <td>No, This Video Of Putin Singing \"Creep\" Is No...</td>\n",
       "      <td>’ On March 21, a YouTube channel published a  ...</td>\n",
       "      <td>0</td>\n",
       "    </tr>\n",
       "    <tr>\n",
       "      <th>209364</th>\n",
       "      <td>Activist investor mad at iHeart’s debt maneuve...</td>\n",
       "      <td>Radio giant iHeartMedia’s latest debt maneuver...</td>\n",
       "      <td>0</td>\n",
       "    </tr>\n",
       "    <tr>\n",
       "      <th>209365</th>\n",
       "      <td>After Mastectomies, an Unexpected Blow: Numb N...</td>\n",
       "      <td>After learning she had a high genetic risk for...</td>\n",
       "      <td>0</td>\n",
       "    </tr>\n",
       "    <tr>\n",
       "      <th>209366</th>\n",
       "      <td>Donald Trump Discussing One Million New Jobs w...</td>\n",
       "      <td>Alibaba, the massive Chinese online retailer t...</td>\n",
       "      <td>0</td>\n",
       "    </tr>\n",
       "  </tbody>\n",
       "</table>\n",
       "<p>209367 rows × 3 columns</p>\n",
       "</div>"
      ],
      "text/plain": [
       "                                                    title  \\\n",
       "0       It’s Not Over Yet: “They May Be Trying To Stea...   \n",
       "1                                                           \n",
       "2       Forget the Trump-Clinton Charade: It’s Time to...   \n",
       "3       Contenders for senior jobs in Trump's administ...   \n",
       "4       Brussels attack victim’s wife sues Twitter for...   \n",
       "...                                                   ...   \n",
       "209362  Eleanor Roosevelt’s ‘mistress’ died heartbroke...   \n",
       "209363   No, This Video Of Putin Singing \"Creep\" Is No...   \n",
       "209364  Activist investor mad at iHeart’s debt maneuve...   \n",
       "209365  After Mastectomies, an Unexpected Blow: Numb N...   \n",
       "209366  Donald Trump Discussing One Million New Jobs w...   \n",
       "\n",
       "                                                     text  fake  \n",
       "0       \\nYou didn’t think she’d go down without a fig...     1  \n",
       "1       Napster offers rented music to go\\n\\nMusic dow...     0  \n",
       "2       Email \\nWho will be the winners and the losers...     1  \n",
       "3       (Reuters) - The following are people mentioned...     0  \n",
       "4       The wife of a New York man who died   is suing...     0  \n",
       "...                                                   ...   ...  \n",
       "209362  They called each other “darling,” “dear one” a...     0  \n",
       "209363  ’ On March 21, a YouTube channel published a  ...     0  \n",
       "209364  Radio giant iHeartMedia’s latest debt maneuver...     0  \n",
       "209365  After learning she had a high genetic risk for...     0  \n",
       "209366  Alibaba, the massive Chinese online retailer t...     0  \n",
       "\n",
       "[209367 rows x 3 columns]"
      ]
     },
     "execution_count": 4,
     "metadata": {},
     "output_type": "execute_result"
    }
   ],
   "source": [
    "df = get_datasets(shuffle=True)\n",
    "df"
   ]
  },
  {
   "cell_type": "code",
   "execution_count": 5,
   "metadata": {},
   "outputs": [
    {
     "data": {
      "image/png": "[encoded data removed]",
      "text/plain": [
       "<Figure size 432x288 with 1 Axes>"
      ]
     },
     "metadata": {},
     "output_type": "display_data"
    }
   ],
   "source": [
    "plot = sns.countplot(x=\"fake\", data=df)"
   ]
  },
  {
   "cell_type": "markdown",
   "metadata": {},
   "source": [
    "We see that there are more 0's i.e. Facts than 1's i.e. Fake so we randomly delete Facts to normalize them"
   ]
  },
  {
   "cell_type": "code",
   "execution_count": 6,
   "metadata": {},
   "outputs": [
    {
     "name": "stdout",
     "output_type": "stream",
     "text": [
      "FACT: 36180 FAKE:36480 Difference:300\n"
     ]
    },
    {
     "data": {
      "image/png": "[encoded data removed]",
      "text/plain": [
       "<Figure size 432x288 with 1 Axes>"
      ]
     },
     "metadata": {},
     "output_type": "display_data"
    }
   ],
   "source": [
    "def normalize(df,difference=300):\n",
    "    df_list = [df[df['fake']==0],df[df['fake']==1]] # [fact,fake]\n",
    "    lst = [len(df_list[0]),len(df_list[1])]\n",
    "    if not bool(lst.index(min(lst))):\n",
    "        \"\"\" if fake is larger than swap \"\"\"\n",
    "        df_list[0], df_list[1] = df_list[1], df_list[0]\n",
    "    size = len(df_list[0]) - len(df_list[1]) + difference\n",
    "    to_delete = random.sample(range(0, len(df_list[0])), size)\n",
    "    df_list[0] = df_list[0].drop(df_list[0].index[to_delete])\n",
    "    print(\"FACT: {} FAKE:{} Difference:{}\".format(len(df_list[0]),len(df_list[1]),len(df_list[1])-len(df_list[0])))\n",
    "    return df_list[0].append(df_list[1], ignore_index=True).sample(frac=1)\n",
    "    \n",
    "plot = sns.countplot(x=\"fake\", data=normalize(df))"
   ]
  },
  {
   "cell_type": "markdown",
   "metadata": {},
   "source": [
    "On further analysis we see that there are many Titles missing"
   ]
  },
  {
   "cell_type": "code",
   "execution_count": 7,
   "metadata": {},
   "outputs": [
    {
     "name": "stdout",
     "output_type": "stream",
     "text": [
      "FACT: 36180 FAKE:36480 Difference:300\n"
     ]
    },
    {
     "data": {
      "text/html": [
       "<div>\n",
       "<style scoped>\n",
       "    .dataframe tbody tr th:only-of-type {\n",
       "        vertical-align: middle;\n",
       "    }\n",
       "\n",
       "    .dataframe tbody tr th {\n",
       "        vertical-align: top;\n",
       "    }\n",
       "\n",
       "    .dataframe thead th {\n",
       "        text-align: right;\n",
       "    }\n",
       "</style>\n",
       "<table border=\"1\" class=\"dataframe\">\n",
       "  <thead>\n",
       "    <tr style=\"text-align: right;\">\n",
       "      <th></th>\n",
       "      <th>title</th>\n",
       "      <th>text</th>\n",
       "      <th>fake</th>\n",
       "    </tr>\n",
       "  </thead>\n",
       "  <tbody>\n",
       "    <tr>\n",
       "      <th>15618</th>\n",
       "      <td></td>\n",
       "      <td>Simon Rubinsohn, chief economist at Gerrard, s...</td>\n",
       "      <td>0</td>\n",
       "    </tr>\n",
       "    <tr>\n",
       "      <th>25046</th>\n",
       "      <td></td>\n",
       "      <td>Robinson had said he was \"livid\" about Kaplan'...</td>\n",
       "      <td>0</td>\n",
       "    </tr>\n",
       "    <tr>\n",
       "      <th>21567</th>\n",
       "      <td></td>\n",
       "      <td>’Killer Robots By Air  …    ’ ’  …    And By S...</td>\n",
       "      <td>0</td>\n",
       "    </tr>\n",
       "    <tr>\n",
       "      <th>11025</th>\n",
       "      <td></td>\n",
       "      <td>It also says there should be more state fundin...</td>\n",
       "      <td>0</td>\n",
       "    </tr>\n",
       "    <tr>\n",
       "      <th>21340</th>\n",
       "      <td></td>\n",
       "      <td>I am confident and optimistic,\" said Thanou.\"W...</td>\n",
       "      <td>0</td>\n",
       "    </tr>\n",
       "  </tbody>\n",
       "</table>\n",
       "</div>"
      ],
      "text/plain": [
       "      title                                               text  fake\n",
       "15618        Simon Rubinsohn, chief economist at Gerrard, s...     0\n",
       "25046        Robinson had said he was \"livid\" about Kaplan'...     0\n",
       "21567        ’Killer Robots By Air  …    ’ ’  …    And By S...     0\n",
       "11025        It also says there should be more state fundin...     0\n",
       "21340        I am confident and optimistic,\" said Thanou.\"W...     0"
      ]
     },
     "execution_count": 7,
     "metadata": {},
     "output_type": "execute_result"
    }
   ],
   "source": [
    "df = normalize(df)\n",
    "df[df['title']== ' '].head()"
   ]
  },
  {
   "cell_type": "markdown",
   "metadata": {},
   "source": [
    "Make a new Column 'news' by concating 'title' and 'text' columns"
   ]
  },
  {
   "cell_type": "code",
   "execution_count": 8,
   "metadata": {},
   "outputs": [
    {
     "data": {
      "text/html": [
       "<div>\n",
       "<style scoped>\n",
       "    .dataframe tbody tr th:only-of-type {\n",
       "        vertical-align: middle;\n",
       "    }\n",
       "\n",
       "    .dataframe tbody tr th {\n",
       "        vertical-align: top;\n",
       "    }\n",
       "\n",
       "    .dataframe thead th {\n",
       "        text-align: right;\n",
       "    }\n",
       "</style>\n",
       "<table border=\"1\" class=\"dataframe\">\n",
       "  <thead>\n",
       "    <tr style=\"text-align: right;\">\n",
       "      <th></th>\n",
       "      <th>title</th>\n",
       "      <th>text</th>\n",
       "      <th>fake</th>\n",
       "      <th>news</th>\n",
       "    </tr>\n",
       "  </thead>\n",
       "  <tbody>\n",
       "    <tr>\n",
       "      <th>15618</th>\n",
       "      <td></td>\n",
       "      <td>Simon Rubinsohn, chief economist at Gerrard, s...</td>\n",
       "      <td>0</td>\n",
       "      <td>Simon Rubinsohn, chief economist at Gerrard,...</td>\n",
       "    </tr>\n",
       "    <tr>\n",
       "      <th>25046</th>\n",
       "      <td></td>\n",
       "      <td>Robinson had said he was \"livid\" about Kaplan'...</td>\n",
       "      <td>0</td>\n",
       "      <td>Robinson had said he was \"livid\" about Kapla...</td>\n",
       "    </tr>\n",
       "    <tr>\n",
       "      <th>21567</th>\n",
       "      <td></td>\n",
       "      <td>’Killer Robots By Air  …    ’ ’  …    And By S...</td>\n",
       "      <td>0</td>\n",
       "      <td>’Killer Robots By Air  …    ’ ’  …    And By...</td>\n",
       "    </tr>\n",
       "    <tr>\n",
       "      <th>11025</th>\n",
       "      <td></td>\n",
       "      <td>It also says there should be more state fundin...</td>\n",
       "      <td>0</td>\n",
       "      <td>It also says there should be more state fund...</td>\n",
       "    </tr>\n",
       "    <tr>\n",
       "      <th>21340</th>\n",
       "      <td></td>\n",
       "      <td>I am confident and optimistic,\" said Thanou.\"W...</td>\n",
       "      <td>0</td>\n",
       "      <td>I am confident and optimistic,\" said Thanou....</td>\n",
       "    </tr>\n",
       "  </tbody>\n",
       "</table>\n",
       "</div>"
      ],
      "text/plain": [
       "      title                                               text  fake  \\\n",
       "15618        Simon Rubinsohn, chief economist at Gerrard, s...     0   \n",
       "25046        Robinson had said he was \"livid\" about Kaplan'...     0   \n",
       "21567        ’Killer Robots By Air  …    ’ ’  …    And By S...     0   \n",
       "11025        It also says there should be more state fundin...     0   \n",
       "21340        I am confident and optimistic,\" said Thanou.\"W...     0   \n",
       "\n",
       "                                                    news  \n",
       "15618    Simon Rubinsohn, chief economist at Gerrard,...  \n",
       "25046    Robinson had said he was \"livid\" about Kapla...  \n",
       "21567    ’Killer Robots By Air  …    ’ ’  …    And By...  \n",
       "11025    It also says there should be more state fund...  \n",
       "21340    I am confident and optimistic,\" said Thanou....  "
      ]
     },
     "execution_count": 8,
     "metadata": {},
     "output_type": "execute_result"
    }
   ],
   "source": [
    "df = df.replace(np.nan, '', regex=True)\n",
    "df['news'] = df['title'].str.cat(df['text'],sep=\" \")\n",
    "df[df['title']== ' '].head()"
   ]
  },
  {
   "cell_type": "code",
   "execution_count": 9,
   "metadata": {},
   "outputs": [],
   "source": [
    "from nltk.corpus import stopwords\n",
    "from nltk.stem import WordNetLemmatizer\n",
    "from nltk.tokenize import word_tokenize\n",
    "import re\n",
    "from string import punctuation\n",
    "lemmatizer = WordNetLemmatizer()\n",
    "stop = set(stopwords.words('english'))\n",
    "stop.update(list(punctuation))"
   ]
  },
  {
   "cell_type": "markdown",
   "metadata": {},
   "source": [
    "Cleaning text to remove url, html tags, stopwords, numbers then lemmatizing them"
   ]
  },
  {
   "cell_type": "code",
   "execution_count": 10,
   "metadata": {},
   "outputs": [
    {
     "data": {
      "text/plain": [
       "\"good asdsad person 'sd qe yiqweqiq 'ns c kg\""
      ]
     },
     "execution_count": 10,
     "metadata": {},
     "output_type": "execute_result"
    }
   ],
   "source": [
    "def text_clean(text):\n",
    "    text = re.sub(r'<.*?>', '', text)\n",
    "    text = re.sub(r'http\\S+', '', text)\n",
    "    text = \" \".join(x for x in word_tokenize(str(text)) if x.strip().lower() not in stop)\n",
    "    text = re.sub(r'\\d+', '', text)\n",
    "    text = \" \".join(lemmatizer.lemmatize(x.lower()) for x in text.split())\n",
    "    return(text)\n",
    "\n",
    "text_clean(\"How are you i am a good <ht> asdsad\\n <\\hr> !! https://abc.com person 'sd q2e12 y7iqweq8768i34q2 'ns C 100kg\")"
   ]
  },
  {
   "cell_type": "code",
   "execution_count": 11,
   "metadata": {},
   "outputs": [
    {
     "data": {
      "text/html": [
       "<div>\n",
       "<style scoped>\n",
       "    .dataframe tbody tr th:only-of-type {\n",
       "        vertical-align: middle;\n",
       "    }\n",
       "\n",
       "    .dataframe tbody tr th {\n",
       "        vertical-align: top;\n",
       "    }\n",
       "\n",
       "    .dataframe thead th {\n",
       "        text-align: right;\n",
       "    }\n",
       "</style>\n",
       "<table border=\"1\" class=\"dataframe\">\n",
       "  <thead>\n",
       "    <tr style=\"text-align: right;\">\n",
       "      <th></th>\n",
       "      <th>title</th>\n",
       "      <th>text</th>\n",
       "      <th>fake</th>\n",
       "      <th>news</th>\n",
       "    </tr>\n",
       "  </thead>\n",
       "  <tbody>\n",
       "    <tr>\n",
       "      <th>51201</th>\n",
       "      <td>Trump’s Response To USS John S. McCain Collis...</td>\n",
       "      <td>It s common knowledge that Donald Trump is a s...</td>\n",
       "      <td>1</td>\n",
       "      <td>Trump’s Response To USS John S. McCain Collis...</td>\n",
       "    </tr>\n",
       "    <tr>\n",
       "      <th>68880</th>\n",
       "      <td>Donald Trump Whines, Swears And Talks Cocktai...</td>\n",
       "      <td>It s tough sometimes to imagine that Donald Tr...</td>\n",
       "      <td>1</td>\n",
       "      <td>Donald Trump Whines, Swears And Talks Cocktai...</td>\n",
       "    </tr>\n",
       "    <tr>\n",
       "      <th>42575</th>\n",
       "      <td>Will the next US president be a psycho lesbian...</td>\n",
       "      <td>By Tom Leonard with pictures and captions adde...</td>\n",
       "      <td>1</td>\n",
       "      <td>Will the next US president be a psycho lesbian...</td>\n",
       "    </tr>\n",
       "    <tr>\n",
       "      <th>51151</th>\n",
       "      <td>REPORTER INTERVIEWING TRUMP Refers To CA Terro...</td>\n",
       "      <td>Well, I don t know. When you have pipe bombs ...</td>\n",
       "      <td>1</td>\n",
       "      <td>REPORTER INTERVIEWING TRUMP Refers To CA Terro...</td>\n",
       "    </tr>\n",
       "    <tr>\n",
       "      <th>48069</th>\n",
       "      <td>CNN REPORTER: Victims at Las Vegas Concert Wer...</td>\n",
       "      <td>CNN reporter Jeff Zeleny said on Monday that c...</td>\n",
       "      <td>1</td>\n",
       "      <td>CNN REPORTER: Victims at Las Vegas Concert Wer...</td>\n",
       "    </tr>\n",
       "  </tbody>\n",
       "</table>\n",
       "</div>"
      ],
      "text/plain": [
       "                                                   title  \\\n",
       "51201   Trump’s Response To USS John S. McCain Collis...   \n",
       "68880   Donald Trump Whines, Swears And Talks Cocktai...   \n",
       "42575  Will the next US president be a psycho lesbian...   \n",
       "51151  REPORTER INTERVIEWING TRUMP Refers To CA Terro...   \n",
       "48069  CNN REPORTER: Victims at Las Vegas Concert Wer...   \n",
       "\n",
       "                                                    text  fake  \\\n",
       "51201  It s common knowledge that Donald Trump is a s...     1   \n",
       "68880  It s tough sometimes to imagine that Donald Tr...     1   \n",
       "42575  By Tom Leonard with pictures and captions adde...     1   \n",
       "51151   Well, I don t know. When you have pipe bombs ...     1   \n",
       "48069  CNN reporter Jeff Zeleny said on Monday that c...     1   \n",
       "\n",
       "                                                    news  \n",
       "51201   Trump’s Response To USS John S. McCain Collis...  \n",
       "68880   Donald Trump Whines, Swears And Talks Cocktai...  \n",
       "42575  Will the next US president be a psycho lesbian...  \n",
       "51151  REPORTER INTERVIEWING TRUMP Refers To CA Terro...  \n",
       "48069  CNN REPORTER: Victims at Las Vegas Concert Wer...  "
      ]
     },
     "execution_count": 11,
     "metadata": {},
     "output_type": "execute_result"
    }
   ],
   "source": [
    "df_test = df\n",
    "df_test = df_test.replace(np.nan, '', regex=True)\n",
    "df_test.head()"
   ]
  },
  {
   "cell_type": "code",
   "execution_count": 12,
   "metadata": {},
   "outputs": [
    {
     "data": {
      "application/vnd.jupyter.widget-view+json": {
       "model_id": "e59ab86cb1a94e20a28438f73345638f",
       "version_major": 2,
       "version_minor": 0
      },
      "text/plain": [
       "HBox(children=(FloatProgress(value=0.0, max=72660.0), HTML(value='')))"
      ]
     },
     "metadata": {},
     "output_type": "display_data"
    },
    {
     "name": "stdout",
     "output_type": "stream",
     "text": [
      "\n"
     ]
    },
    {
     "data": {
      "text/html": [
       "<div>\n",
       "<style scoped>\n",
       "    .dataframe tbody tr th:only-of-type {\n",
       "        vertical-align: middle;\n",
       "    }\n",
       "\n",
       "    .dataframe tbody tr th {\n",
       "        vertical-align: top;\n",
       "    }\n",
       "\n",
       "    .dataframe thead th {\n",
       "        text-align: right;\n",
       "    }\n",
       "</style>\n",
       "<table border=\"1\" class=\"dataframe\">\n",
       "  <thead>\n",
       "    <tr style=\"text-align: right;\">\n",
       "      <th></th>\n",
       "      <th>title</th>\n",
       "      <th>text</th>\n",
       "      <th>fake</th>\n",
       "      <th>news</th>\n",
       "    </tr>\n",
       "  </thead>\n",
       "  <tbody>\n",
       "    <tr>\n",
       "      <th>51201</th>\n",
       "      <td>Trump’s Response To USS John S. McCain Collis...</td>\n",
       "      <td>It s common knowledge that Donald Trump is a s...</td>\n",
       "      <td>1</td>\n",
       "      <td>trump ’ response us john s. mccain collision h...</td>\n",
       "    </tr>\n",
       "    <tr>\n",
       "      <th>68880</th>\n",
       "      <td>Donald Trump Whines, Swears And Talks Cocktai...</td>\n",
       "      <td>It s tough sometimes to imagine that Donald Tr...</td>\n",
       "      <td>1</td>\n",
       "      <td>donald trump whine swears talk cocktail party ...</td>\n",
       "    </tr>\n",
       "    <tr>\n",
       "      <th>42575</th>\n",
       "      <td>Will the next US president be a psycho lesbian...</td>\n",
       "      <td>By Tom Leonard with pictures and captions adde...</td>\n",
       "      <td>1</td>\n",
       "      <td>next u president psycho lesbian plus breaking ...</td>\n",
       "    </tr>\n",
       "    <tr>\n",
       "      <th>51151</th>\n",
       "      <td>REPORTER INTERVIEWING TRUMP Refers To CA Terro...</td>\n",
       "      <td>Well, I don t know. When you have pipe bombs ...</td>\n",
       "      <td>1</td>\n",
       "      <td>reporter interviewing trump refers ca terroris...</td>\n",
       "    </tr>\n",
       "    <tr>\n",
       "      <th>48069</th>\n",
       "      <td>CNN REPORTER: Victims at Las Vegas Concert Wer...</td>\n",
       "      <td>CNN reporter Jeff Zeleny said on Monday that c...</td>\n",
       "      <td>1</td>\n",
       "      <td>cnn reporter victim la vega concert likely tru...</td>\n",
       "    </tr>\n",
       "  </tbody>\n",
       "</table>\n",
       "</div>"
      ],
      "text/plain": [
       "                                                   title  \\\n",
       "51201   Trump’s Response To USS John S. McCain Collis...   \n",
       "68880   Donald Trump Whines, Swears And Talks Cocktai...   \n",
       "42575  Will the next US president be a psycho lesbian...   \n",
       "51151  REPORTER INTERVIEWING TRUMP Refers To CA Terro...   \n",
       "48069  CNN REPORTER: Victims at Las Vegas Concert Wer...   \n",
       "\n",
       "                                                    text  fake  \\\n",
       "51201  It s common knowledge that Donald Trump is a s...     1   \n",
       "68880  It s tough sometimes to imagine that Donald Tr...     1   \n",
       "42575  By Tom Leonard with pictures and captions adde...     1   \n",
       "51151   Well, I don t know. When you have pipe bombs ...     1   \n",
       "48069  CNN reporter Jeff Zeleny said on Monday that c...     1   \n",
       "\n",
       "                                                    news  \n",
       "51201  trump ’ response us john s. mccain collision h...  \n",
       "68880  donald trump whine swears talk cocktail party ...  \n",
       "42575  next u president psycho lesbian plus breaking ...  \n",
       "51151  reporter interviewing trump refers ca terroris...  \n",
       "48069  cnn reporter victim la vega concert likely tru...  "
      ]
     },
     "execution_count": 12,
     "metadata": {},
     "output_type": "execute_result"
    }
   ],
   "source": [
    "df_test['news'] = df_test['news'].progress_apply(text_clean)\n",
    "df_test.head()"
   ]
  }
 ],
 "metadata": {
  "kernelspec": {
   "display_name": "Python 3",
   "language": "python",
   "name": "python3"
  },
  "language_info": {
   "codemirror_mode": {
    "name": "ipython",
    "version": 3
   },
   "file_extension": ".py",
   "mimetype": "text/x-python",
   "name": "python",
   "nbconvert_exporter": "python",
   "pygments_lexer": "ipython3",
   "version": "3.7.7"
  }
 },
 "nbformat": 4,
 "nbformat_minor": 4
}
